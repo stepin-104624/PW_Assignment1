{
 "cells": [
  {
   "cell_type": "markdown",
   "id": "e66fa726",
   "metadata": {},
   "source": [
    "# Name: K Sai Charan Reddy\n",
    "# Mail:saicharan10521@gmail.com\n"
   ]
  },
  {
   "cell_type": "markdown",
   "id": "ad85f103",
   "metadata": {},
   "source": [
    "1. Declare two variables, `x` and `y`, and assign them integer values.\n",
    "Swap the values of these variables without using any temporary\n",
    "variable."
   ]
  },
  {
   "cell_type": "code",
   "execution_count": 3,
   "id": "1efd9052",
   "metadata": {},
   "outputs": [
    {
     "name": "stdout",
     "output_type": "stream",
     "text": [
      "The Numbers before swapped 10 20\n",
      "The numbers after swapped 20 10\n"
     ]
    }
   ],
   "source": [
    "#Declaring Two variables x,y and assign integer values to it\n",
    "x=10\n",
    "y=20\n",
    "print(\"The Numbers before swapped\",x,y)\n",
    "#Swapping it with out third Variable\n",
    "x,y=y,x\n",
    "#printing the output \n",
    "print(\"The numbers after swapped\",x,y)"
   ]
  },
  {
   "cell_type": "markdown",
   "id": "30e8da0c",
   "metadata": {},
   "source": [
    "2. Create a program that calculates the area of a rectangle. Take the\n",
    "length and width as inputs from the user and store them in variables.\n",
    "Calculate and display the area."
   ]
  },
  {
   "cell_type": "code",
   "execution_count": 4,
   "id": "9fe95493",
   "metadata": {},
   "outputs": [
    {
     "name": "stdout",
     "output_type": "stream",
     "text": [
      "Enter the Length of the Rectangle40\n",
      "Enter the Width of the Rectangle30\n",
      "The Area of the Rectangle is 1200 sq.units\n"
     ]
    }
   ],
   "source": [
    "#Declaring the Inputs of Length and width\n",
    "length=int(input(\"Enter the Length of the Rectangle\"))\n",
    "width=int(input(\"Enter the Width of the Rectangle\"))\n",
    "#Area of the Rectangle is Length*width\n",
    "Area=length*width\n",
    "print(\"The Area of the Rectangle is\",Area,\"sq.units\")"
   ]
  },
  {
   "cell_type": "markdown",
   "id": "4a5b225c",
   "metadata": {},
   "source": [
    "3. Write a Python program that converts temperature from Celsius to\n",
    "Fahrenheit. Take the temperature in Celsius as input, store it in a\n",
    "variable, convert it to Fahrenheit, and display the result."
   ]
  },
  {
   "cell_type": "code",
   "execution_count": 6,
   "id": "11a9f541",
   "metadata": {},
   "outputs": [
    {
     "name": "stdout",
     "output_type": "stream",
     "text": [
      "Enter the Temperature in Celsius30\n",
      "The converted Temperature from celsius to Fahrenheit is 86.0\n"
     ]
    }
   ],
   "source": [
    "#Declaring a variable to take te celsius temperature as Input \n",
    "a=int(input(\"Enter the Temperature in Celsius\"))\n",
    "#the formula to convert from celsius to Fahrenheit is (a*1.8)+b\n",
    "b=(a*1.8)+32\n",
    "print(\"The converted Temperature from celsius to Fahrenheit is\",b)"
   ]
  },
  {
   "cell_type": "markdown",
   "id": "04103d1e",
   "metadata": {},
   "source": [
    "#  String Based Questions"
   ]
  },
  {
   "cell_type": "markdown",
   "id": "3ef0e636",
   "metadata": {},
   "source": [
    "1. Write a Python program that takes a string as input and prints the\n",
    "length of the string."
   ]
  },
  {
   "cell_type": "code",
   "execution_count": 7,
   "id": "9a563e8f",
   "metadata": {},
   "outputs": [
    {
     "name": "stdout",
     "output_type": "stream",
     "text": [
      "Enter the String\"charan\"\n",
      "8\n"
     ]
    }
   ],
   "source": [
    "# Declare the string as input\n",
    "str=input(\"Enter the String\")\n",
    "#find the length of the string by len function\n",
    "b=len(str)\n",
    "print(b)"
   ]
  },
  {
   "cell_type": "markdown",
   "id": "59d933cf",
   "metadata": {},
   "source": [
    "2. Create a program that takes a sentence from the user and counts the\n",
    "number of vowels (a, e, i, o, u) in the string."
   ]
  },
  {
   "cell_type": "code",
   "execution_count": 28,
   "id": "568aa404",
   "metadata": {},
   "outputs": [
    {
     "name": "stdout",
     "output_type": "stream",
     "text": [
      "Enter the String SAIcharan\n",
      "The no of vowels in the string = 4\n"
     ]
    }
   ],
   "source": [
    "#Declare the string as input\n",
    "str=input(\"Enter the String \")\n",
    "#Declare the Vowels intially as 0\n",
    "#Vowels are nothing but (A E I O U )\n",
    "vowels=0\n",
    "for i in str:\n",
    "    if i=='a'or i=='e' or i=='i' or i=='o' or i=='u' or i=='A' or i=='E'or i=='I' or i=='O'or i=='U':\n",
    "        vowels=vowels+1\n",
    "print(\"The no of vowels in the string =\",vowels)"
   ]
  },
  {
   "cell_type": "markdown",
   "id": "a31c62d6",
   "metadata": {},
   "source": [
    "3. Given a string, reverse the order of characters using string slicing and\n",
    "print the reversed string."
   ]
  },
  {
   "cell_type": "code",
   "execution_count": 13,
   "id": "d3508a9d",
   "metadata": {},
   "outputs": [
    {
     "name": "stdout",
     "output_type": "stream",
     "text": [
      "narahcias\n"
     ]
    }
   ],
   "source": [
    "#Declare the string as input\n",
    "str=\"saicharan\"\n",
    "#by string slicing and for reverse of the string we can use the below line\n",
    "b=str[::-1]\n",
    "print(b)"
   ]
  },
  {
   "cell_type": "markdown",
   "id": "8efbf28c",
   "metadata": {},
   "source": [
    "4. Write a program that takes a string as input and checks if it is a\n",
    "palindrome (reads the same forwards and backwards)."
   ]
  },
  {
   "cell_type": "code",
   "execution_count": 17,
   "id": "ab50ddf1",
   "metadata": {},
   "outputs": [
    {
     "name": "stdout",
     "output_type": "stream",
     "text": [
      "Enter the string mam\n",
      "entered string is a palindrome\n"
     ]
    }
   ],
   "source": [
    "#Declare the string as input \n",
    "str=input(\"Enter the string \")\n",
    "#here we are reversing the string by string slicng\n",
    "b=str[::-1]\n",
    "if str==b:\n",
    "    print(\"entered string is a palindrome\")\n",
    "else:\n",
    "    print(\"Entered string is not a palindrome\")"
   ]
  },
  {
   "cell_type": "markdown",
   "id": "2332c29d",
   "metadata": {},
   "source": [
    "5. Create a program that takes a string as input and removes all the\n",
    "spaces from it. Print the modified string without spaces."
   ]
  },
  {
   "cell_type": "code",
   "execution_count": 2,
   "id": "b8dadb73",
   "metadata": {},
   "outputs": [
    {
     "name": "stdout",
     "output_type": "stream",
     "text": [
      "Enter the String    \" c h a r a n \"\n",
      "\"charan\"\n"
     ]
    }
   ],
   "source": [
    "a=input(\"Enter the String\")\n",
    "#Replace is used to Replace the Specified things\n",
    "print(a.replace(\" \",\"\"))"
   ]
  },
  {
   "cell_type": "markdown",
   "id": "84be2c2f",
   "metadata": {},
   "source": [
    "# Additional ways of doing the same Questions"
   ]
  },
  {
   "cell_type": "markdown",
   "id": "e4c47c13",
   "metadata": {},
   "source": [
    "Declare two variables, x and y, and assign them integer values. Swap the values of these variables without using any temporary variable."
   ]
  },
  {
   "cell_type": "code",
   "execution_count": 20,
   "id": "f0f15620",
   "metadata": {},
   "outputs": [
    {
     "name": "stdout",
     "output_type": "stream",
     "text": [
      "20 10\n"
     ]
    }
   ],
   "source": [
    "#Declaring Two variables x,y and assign integer values to it\n",
    "x=10\n",
    "y=20\n",
    "#Swapping it with out third Variable\n",
    "x=x+y\n",
    "y=x-y\n",
    "x=x-y\n",
    "#printing the output \n",
    "print(x,y)"
   ]
  },
  {
   "cell_type": "code",
   "execution_count": null,
   "id": "91483e4d",
   "metadata": {},
   "outputs": [],
   "source": []
  },
  {
   "cell_type": "code",
   "execution_count": null,
   "id": "77d64ade",
   "metadata": {
    "scrolled": true
   },
   "outputs": [],
   "source": []
  },
  {
   "cell_type": "code",
   "execution_count": null,
   "id": "83ccfbd2",
   "metadata": {},
   "outputs": [],
   "source": []
  }
 ],
 "metadata": {
  "kernelspec": {
   "display_name": "Python 3 (ipykernel)",
   "language": "python",
   "name": "python3"
  },
  "language_info": {
   "codemirror_mode": {
    "name": "ipython",
    "version": 3
   },
   "file_extension": ".py",
   "mimetype": "text/x-python",
   "name": "python",
   "nbconvert_exporter": "python",
   "pygments_lexer": "ipython3",
   "version": "3.10.9"
  }
 },
 "nbformat": 4,
 "nbformat_minor": 5
}
